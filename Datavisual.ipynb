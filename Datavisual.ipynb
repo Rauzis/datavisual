{
 "cells": [
  {
   "cell_type": "code",
   "execution_count": 1,
   "id": "d09314a1-40ad-4ab0-b791-a4801ce745da",
   "metadata": {},
   "outputs": [],
   "source": [
    "import numpy as np\n",
    "import pandas as pd\n",
    "import matplotlib.pyplot as plt\n",
    "import seaborn as sns\n",
    "from matplotlib.ticker import FuncFormatter\n",
    "df = pd.read_csv(\"coursea_data.csv\", index_col=0)\n",
    "def convert_enrolled(val):\n",
    "    if isinstance(val, str) and \"k\" in val.lower():\n",
    "        return float(val.lower().strip().replace(\"k\", \"\")) * 1000\n",
    "    elif isinstance(val, str) and \"m\" in val.lower():\n",
    "        return float(val.lower().strip().replace(\"m\", \"\")) * 1000000\n",
    "    else:\n",
    "        return float(val)\n",
    "\n",
    "df.course_students_enrolled = df.course_students_enrolled.apply(convert_enrolled)\n",
    "\n",
    "df.index = df.index.sort_values()"
   ]
  },
  {
   "cell_type": "markdown",
   "id": "665e630a-5db8-4e65-8e4d-5f12a377e5fc",
   "metadata": {},
   "source": [
    "# Data visualization\n",
    "***\n",
    "## Overview\n",
    "This data set contains 891 rows with 6 features.  \n",
    "With 4 categorical features:\n",
    "1. Course title\n",
    "2. Course organization\n",
    "3. Course certification type\n",
    "   - Course\n",
    "   - Specialization\n",
    "   - Professional Certificate\n",
    "5. Course difficulty\n",
    "   - Beginner\n",
    "   - Intermediate\n",
    "   - Advanced\n",
    "   - Mixed\n",
    "    \n",
    "And 2 numeric features:\n",
    "1. Course rating\n",
    "2. Course students enrolled"
   ]
  },
  {
   "cell_type": "code",
   "execution_count": 2,
   "id": "315e87b9-02d1-405e-b862-a2dc33c3ba13",
   "metadata": {
    "jupyter": {
     "source_hidden": true
    }
   },
   "outputs": [
    {
     "name": "stdout",
     "output_type": "stream",
     "text": [
      "Total data rows: 891\n",
      "['SPECIALIZATION' 'COURSE' 'PROFESSIONAL CERTIFICATE']\n",
      "['Beginner' 'Intermediate' 'Mixed' 'Advanced']\n"
     ]
    },
    {
     "data": {
      "text/html": [
       "<div>\n",
       "<style scoped>\n",
       "    .dataframe tbody tr th:only-of-type {\n",
       "        vertical-align: middle;\n",
       "    }\n",
       "\n",
       "    .dataframe tbody tr th {\n",
       "        vertical-align: top;\n",
       "    }\n",
       "\n",
       "    .dataframe thead th {\n",
       "        text-align: right;\n",
       "    }\n",
       "</style>\n",
       "<table border=\"1\" class=\"dataframe\">\n",
       "  <thead>\n",
       "    <tr style=\"text-align: right;\">\n",
       "      <th></th>\n",
       "      <th>course_title</th>\n",
       "      <th>course_organization</th>\n",
       "      <th>course_Certificate_type</th>\n",
       "      <th>course_rating</th>\n",
       "      <th>course_difficulty</th>\n",
       "      <th>course_students_enrolled</th>\n",
       "    </tr>\n",
       "  </thead>\n",
       "  <tbody>\n",
       "    <tr>\n",
       "      <th>0</th>\n",
       "      <td>(ISC)² Systems Security Certified Practitioner...</td>\n",
       "      <td>(ISC)²</td>\n",
       "      <td>SPECIALIZATION</td>\n",
       "      <td>4.7</td>\n",
       "      <td>Beginner</td>\n",
       "      <td>5300.0</td>\n",
       "    </tr>\n",
       "    <tr>\n",
       "      <th>1</th>\n",
       "      <td>A Crash Course in Causality:  Inferring Causal...</td>\n",
       "      <td>University of Pennsylvania</td>\n",
       "      <td>COURSE</td>\n",
       "      <td>4.7</td>\n",
       "      <td>Intermediate</td>\n",
       "      <td>17000.0</td>\n",
       "    </tr>\n",
       "    <tr>\n",
       "      <th>2</th>\n",
       "      <td>A Crash Course in Data Science</td>\n",
       "      <td>Johns Hopkins University</td>\n",
       "      <td>COURSE</td>\n",
       "      <td>4.5</td>\n",
       "      <td>Mixed</td>\n",
       "      <td>130000.0</td>\n",
       "    </tr>\n",
       "    <tr>\n",
       "      <th>3</th>\n",
       "      <td>A Law Student's Toolkit</td>\n",
       "      <td>Yale University</td>\n",
       "      <td>COURSE</td>\n",
       "      <td>4.7</td>\n",
       "      <td>Mixed</td>\n",
       "      <td>91000.0</td>\n",
       "    </tr>\n",
       "    <tr>\n",
       "      <th>4</th>\n",
       "      <td>A Life of Happiness and Fulfillment</td>\n",
       "      <td>Indian School of Business</td>\n",
       "      <td>COURSE</td>\n",
       "      <td>4.8</td>\n",
       "      <td>Mixed</td>\n",
       "      <td>320000.0</td>\n",
       "    </tr>\n",
       "  </tbody>\n",
       "</table>\n",
       "</div>"
      ],
      "text/plain": [
       "                                        course_title  \\\n",
       "0  (ISC)² Systems Security Certified Practitioner...   \n",
       "1  A Crash Course in Causality:  Inferring Causal...   \n",
       "2                     A Crash Course in Data Science   \n",
       "3                            A Law Student's Toolkit   \n",
       "4                A Life of Happiness and Fulfillment   \n",
       "\n",
       "          course_organization course_Certificate_type  course_rating  \\\n",
       "0                      (ISC)²          SPECIALIZATION            4.7   \n",
       "1  University of Pennsylvania                  COURSE            4.7   \n",
       "2    Johns Hopkins University                  COURSE            4.5   \n",
       "3             Yale University                  COURSE            4.7   \n",
       "4   Indian School of Business                  COURSE            4.8   \n",
       "\n",
       "  course_difficulty  course_students_enrolled  \n",
       "0          Beginner                    5300.0  \n",
       "1      Intermediate                   17000.0  \n",
       "2             Mixed                  130000.0  \n",
       "3             Mixed                   91000.0  \n",
       "4             Mixed                  320000.0  "
      ]
     },
     "execution_count": 2,
     "metadata": {},
     "output_type": "execute_result"
    }
   ],
   "source": [
    "print(\"Total data rows:\", df.index.value_counts().sum())\n",
    "print(df.course_Certificate_type.unique())\n",
    "print(df.course_difficulty.unique())\n",
    "df.head()"
   ]
  },
  {
   "cell_type": "markdown",
   "id": "87aaea83-a963-4f19-abfa-874e3fb40dbf",
   "metadata": {},
   "source": [
    "### Duplicates and null values\n",
    "- There's one organization providing one course with same title but certification and course difficulty are diferent. Also there's students enrolled diference.\n",
    "- This data set has no missing or invalid values."
   ]
  },
  {
   "cell_type": "code",
   "execution_count": 3,
   "id": "9089a044-9a12-4f2f-a334-50fd45a5527d",
   "metadata": {},
   "outputs": [
    {
     "data": {
      "text/html": [
       "<div>\n",
       "<style scoped>\n",
       "    .dataframe tbody tr th:only-of-type {\n",
       "        vertical-align: middle;\n",
       "    }\n",
       "\n",
       "    .dataframe tbody tr th {\n",
       "        vertical-align: top;\n",
       "    }\n",
       "\n",
       "    .dataframe thead th {\n",
       "        text-align: right;\n",
       "    }\n",
       "</style>\n",
       "<table border=\"1\" class=\"dataframe\">\n",
       "  <thead>\n",
       "    <tr style=\"text-align: right;\">\n",
       "      <th></th>\n",
       "      <th>course_title</th>\n",
       "      <th>course_organization</th>\n",
       "      <th>course_Certificate_type</th>\n",
       "      <th>course_rating</th>\n",
       "      <th>course_difficulty</th>\n",
       "      <th>course_students_enrolled</th>\n",
       "    </tr>\n",
       "  </thead>\n",
       "  <tbody>\n",
       "    <tr>\n",
       "      <th>224</th>\n",
       "      <td>Developing Your Musicianship</td>\n",
       "      <td>Berklee College of Music</td>\n",
       "      <td>COURSE</td>\n",
       "      <td>4.8</td>\n",
       "      <td>Mixed</td>\n",
       "      <td>41000.0</td>\n",
       "    </tr>\n",
       "    <tr>\n",
       "      <th>225</th>\n",
       "      <td>Developing Your Musicianship</td>\n",
       "      <td>Berklee College of Music</td>\n",
       "      <td>SPECIALIZATION</td>\n",
       "      <td>4.8</td>\n",
       "      <td>Beginner</td>\n",
       "      <td>54000.0</td>\n",
       "    </tr>\n",
       "  </tbody>\n",
       "</table>\n",
       "</div>"
      ],
      "text/plain": [
       "                     course_title       course_organization  \\\n",
       "224  Developing Your Musicianship  Berklee College of Music   \n",
       "225  Developing Your Musicianship  Berklee College of Music   \n",
       "\n",
       "    course_Certificate_type  course_rating course_difficulty  \\\n",
       "224                  COURSE            4.8             Mixed   \n",
       "225          SPECIALIZATION            4.8          Beginner   \n",
       "\n",
       "     course_students_enrolled  \n",
       "224                   41000.0  \n",
       "225                   54000.0  "
      ]
     },
     "execution_count": 3,
     "metadata": {},
     "output_type": "execute_result"
    }
   ],
   "source": [
    "df[df[[\"course_title\", \"course_organization\"]].duplicated(keep=False)]"
   ]
  },
  {
   "cell_type": "markdown",
   "id": "c9799103-7441-412a-a046-0f471a09f768",
   "metadata": {},
   "source": [
    "### Null values"
   ]
  },
  {
   "cell_type": "code",
   "execution_count": 4,
   "id": "8a3a3e35-bc6d-4006-b610-560e0388ca85",
   "metadata": {},
   "outputs": [
    {
     "data": {
      "text/plain": [
       "np.int64(0)"
      ]
     },
     "execution_count": 4,
     "metadata": {},
     "output_type": "execute_result"
    }
   ],
   "source": [
    "df.isnull().sum().sum()"
   ]
  },
  {
   "cell_type": "markdown",
   "id": "3095430f-9b87-4410-8eda-6fbac757aee9",
   "metadata": {},
   "source": [
    "***\n",
    "## Rating and students enrolled outliers"
   ]
  },
  {
   "cell_type": "markdown",
   "id": "7c230a27-f281-4589-a59f-f75bb0f65962",
   "metadata": {},
   "source": [
    "### A total of 154 organizations, offering 888 diferent courses\n",
    "- 17 courses falls to low outliers by rating, mean of 4.05 out of 5 with worst rated 3.3.\n",
    "- 78 courses with high outliers by students enrolled, mean of close to 460,000 with most popular at 3,200,000 students enrolled.\n",
    "- None of these outliers intertwine."
   ]
  },
  {
   "cell_type": "code",
   "execution_count": 5,
   "id": "780841f2-17ad-49b8-b5a6-f04664780208",
   "metadata": {
    "jupyter": {
     "source_hidden": true
    }
   },
   "outputs": [
    {
     "name": "stdout",
     "output_type": "stream",
     "text": [
      "Total unique courses: 888\n",
      "Total unique oragnizations: 154\n"
     ]
    }
   ],
   "source": [
    "print(\"Total unique courses:\", df.course_title.str.strip().nunique())\n",
    "print(\"Total unique oragnizations:\", df.course_organization.str.strip().nunique())"
   ]
  },
  {
   "cell_type": "code",
   "execution_count": 6,
   "id": "8f2c9a3c-5322-40ab-808a-e7ccd5a30c32",
   "metadata": {
    "jupyter": {
     "source_hidden": true
    }
   },
   "outputs": [
    {
     "name": "stdout",
     "output_type": "stream",
     "text": [
      "Total low outliers - by course rating only: 17\n",
      "Min score: 3.3\n",
      "course_rating               4.05\n",
      "course_students_enrolled     NaN\n",
      "dtype: float64\n",
      "\n",
      "\n",
      "Total high outliers - by course students enrolled only: 78\n",
      "Max students enrolled: 3200000.0\n",
      "course_rating                    NaN\n",
      "course_students_enrolled    459615.0\n",
      "dtype: float64\n"
     ]
    }
   ],
   "source": [
    "num_csv = df.select_dtypes(include=[float, int])\n",
    "descr = num_csv.describe()\n",
    "q1 = descr.loc[\"25%\"]\n",
    "q3 = descr.loc[\"75%\"]\n",
    "iqr = q3-q1\n",
    "lower = q1-1.5*iqr\n",
    "upper = q3+1.5*iqr\n",
    "outl_low = num_csv[(num_csv < lower)]\n",
    "outl_high = num_csv[(num_csv > upper)]\n",
    "outl_low.notna().sum()\n",
    "outl_high.notna().sum()\n",
    "\n",
    "low = outl_low[outl_low.notna()]\n",
    "print(\"Total low outliers - by course rating only:\", low.course_rating.dropna(how = \"all\").value_counts().sum())\n",
    "print(\"Min score:\", low.course_rating.min())\n",
    "print(low.mean().round(2))\n",
    "print(\"\\n\")\n",
    "high = outl_high[outl_high.notna()]\n",
    "print(\"Total high outliers - by course students enrolled only:\", high.course_students_enrolled.dropna(how = \"all\").value_counts().sum())\n",
    "print(\"Max students enrolled:\", high.course_students_enrolled.max())\n",
    "print(high.mean().round())"
   ]
  },
  {
   "cell_type": "markdown",
   "id": "12b26234-c4e9-4b23-91ef-5bd1631231b5",
   "metadata": {},
   "source": [
    "### Lowest and highest rated courses\n",
    "Only 4 courses with rating less than 4.0.  \n",
    "- 3 out of 4 has course difficulty at Intermediate and certificate type - specialization.  \n",
    "- Worst rated course at 3.3 has difficulty at Mixed and certification type  - course. It also has most students enrolled compared to other lowest ranked courses.\n",
    "\n",
    "Courses has varying students range from 15,000 to 140,000."
   ]
  },
  {
   "cell_type": "code",
   "execution_count": 8,
   "id": "2e0e818d-11f5-4f22-a4ba-ccf1d93eb308",
   "metadata": {},
   "outputs": [
    {
     "data": {
      "text/html": [
       "<div>\n",
       "<style scoped>\n",
       "    .dataframe tbody tr th:only-of-type {\n",
       "        vertical-align: middle;\n",
       "    }\n",
       "\n",
       "    .dataframe tbody tr th {\n",
       "        vertical-align: top;\n",
       "    }\n",
       "\n",
       "    .dataframe thead th {\n",
       "        text-align: right;\n",
       "    }\n",
       "</style>\n",
       "<table border=\"1\" class=\"dataframe\">\n",
       "  <thead>\n",
       "    <tr style=\"text-align: right;\">\n",
       "      <th></th>\n",
       "      <th>course_title</th>\n",
       "      <th>course_organization</th>\n",
       "      <th>course_Certificate_type</th>\n",
       "      <th>course_rating</th>\n",
       "      <th>course_difficulty</th>\n",
       "      <th>course_students_enrolled</th>\n",
       "    </tr>\n",
       "  </thead>\n",
       "  <tbody>\n",
       "    <tr>\n",
       "      <th>413</th>\n",
       "      <td>How To Create a Website in a Weekend! (Project...</td>\n",
       "      <td>The State University of New York</td>\n",
       "      <td>COURSE</td>\n",
       "      <td>3.3</td>\n",
       "      <td>Mixed</td>\n",
       "      <td>140000.0</td>\n",
       "    </tr>\n",
       "    <tr>\n",
       "      <th>566</th>\n",
       "      <td>Machine Learning and Reinforcement Learning in...</td>\n",
       "      <td>New York University</td>\n",
       "      <td>SPECIALIZATION</td>\n",
       "      <td>3.7</td>\n",
       "      <td>Intermediate</td>\n",
       "      <td>29000.0</td>\n",
       "    </tr>\n",
       "    <tr>\n",
       "      <th>569</th>\n",
       "      <td>Machine Learning for Trading</td>\n",
       "      <td>Google Cloud</td>\n",
       "      <td>SPECIALIZATION</td>\n",
       "      <td>3.9</td>\n",
       "      <td>Intermediate</td>\n",
       "      <td>15000.0</td>\n",
       "    </tr>\n",
       "    <tr>\n",
       "      <th>873</th>\n",
       "      <td>iOS App Development with Swift</td>\n",
       "      <td>University of Toronto</td>\n",
       "      <td>SPECIALIZATION</td>\n",
       "      <td>3.9</td>\n",
       "      <td>Intermediate</td>\n",
       "      <td>76000.0</td>\n",
       "    </tr>\n",
       "  </tbody>\n",
       "</table>\n",
       "</div>"
      ],
      "text/plain": [
       "                                          course_title  \\\n",
       "413  How To Create a Website in a Weekend! (Project...   \n",
       "566  Machine Learning and Reinforcement Learning in...   \n",
       "569                       Machine Learning for Trading   \n",
       "873                     iOS App Development with Swift   \n",
       "\n",
       "                  course_organization course_Certificate_type  course_rating  \\\n",
       "413  The State University of New York                  COURSE            3.3   \n",
       "566               New York University          SPECIALIZATION            3.7   \n",
       "569                      Google Cloud          SPECIALIZATION            3.9   \n",
       "873             University of Toronto          SPECIALIZATION            3.9   \n",
       "\n",
       "    course_difficulty  course_students_enrolled  \n",
       "413             Mixed                  140000.0  \n",
       "566      Intermediate                   29000.0  \n",
       "569      Intermediate                   15000.0  \n",
       "873      Intermediate                   76000.0  "
      ]
     },
     "execution_count": 8,
     "metadata": {},
     "output_type": "execute_result"
    }
   ],
   "source": [
    "df[df.course_rating.lt(4)]"
   ]
  },
  {
   "cell_type": "markdown",
   "id": "f1b4700a-d0ff-409f-9b6c-ef591a3d1ee2",
   "metadata": {},
   "source": [
    "Two courses with rating 5 out of 5.  \n",
    "- One being **begginer** difficulty with certification type - **Course**.  \n",
    "- Other with difficulty of **intermediate** with certification type - **Specialization**.  \n",
    "\n",
    "Both courses only has 1500 and 1600 students enrolled respectively."
   ]
  },
  {
   "cell_type": "code",
   "execution_count": 9,
   "id": "0171fab2-638c-40e0-a8f7-bd80685a2c98",
   "metadata": {},
   "outputs": [
    {
     "data": {
      "text/html": [
       "<div>\n",
       "<style scoped>\n",
       "    .dataframe tbody tr th:only-of-type {\n",
       "        vertical-align: middle;\n",
       "    }\n",
       "\n",
       "    .dataframe tbody tr th {\n",
       "        vertical-align: top;\n",
       "    }\n",
       "\n",
       "    .dataframe thead th {\n",
       "        text-align: right;\n",
       "    }\n",
       "</style>\n",
       "<table border=\"1\" class=\"dataframe\">\n",
       "  <thead>\n",
       "    <tr style=\"text-align: right;\">\n",
       "      <th></th>\n",
       "      <th>course_title</th>\n",
       "      <th>course_organization</th>\n",
       "      <th>course_Certificate_type</th>\n",
       "      <th>course_rating</th>\n",
       "      <th>course_difficulty</th>\n",
       "      <th>course_students_enrolled</th>\n",
       "    </tr>\n",
       "  </thead>\n",
       "  <tbody>\n",
       "    <tr>\n",
       "      <th>251</th>\n",
       "      <td>El Abogado del Futuro: Legaltech y la Transfor...</td>\n",
       "      <td>Universidad Austral</td>\n",
       "      <td>COURSE</td>\n",
       "      <td>5.0</td>\n",
       "      <td>Beginner</td>\n",
       "      <td>1500.0</td>\n",
       "    </tr>\n",
       "    <tr>\n",
       "      <th>432</th>\n",
       "      <td>Infectious Disease Modelling</td>\n",
       "      <td>Imperial College London</td>\n",
       "      <td>SPECIALIZATION</td>\n",
       "      <td>5.0</td>\n",
       "      <td>Intermediate</td>\n",
       "      <td>1600.0</td>\n",
       "    </tr>\n",
       "  </tbody>\n",
       "</table>\n",
       "</div>"
      ],
      "text/plain": [
       "                                          course_title  \\\n",
       "251  El Abogado del Futuro: Legaltech y la Transfor...   \n",
       "432                       Infectious Disease Modelling   \n",
       "\n",
       "         course_organization course_Certificate_type  course_rating  \\\n",
       "251      Universidad Austral                  COURSE            5.0   \n",
       "432  Imperial College London          SPECIALIZATION            5.0   \n",
       "\n",
       "    course_difficulty  course_students_enrolled  \n",
       "251          Beginner                    1500.0  \n",
       "432      Intermediate                    1600.0  "
      ]
     },
     "execution_count": 9,
     "metadata": {},
     "output_type": "execute_result"
    }
   ],
   "source": [
    "df[df.course_rating == 5]"
   ]
  },
  {
   "cell_type": "markdown",
   "id": "d45d5092-7d99-49fe-81b0-0852c522a663",
   "metadata": {},
   "source": [
    "***\n",
    "## Popularity breakdown\n",
    "There's total of 80,681,900 students enrolled in this data set.\n",
    "### Most and least popular courses\n",
    "- Most popular by students enrolled: **\"Stanford University - Machine learning\"** with 3,200,000 students.\n",
    "- Least popular by students enrolled: **\"Universided Austral - El Abogado del Futuro: Legaltech y la Transformación Digital del Derecho\"** with 1500 students.  "
   ]
  },
  {
   "cell_type": "code",
   "execution_count": 10,
   "id": "f98d1f4d-1e00-468b-84f8-f397e9b6abde",
   "metadata": {},
   "outputs": [
    {
     "name": "stdout",
     "output_type": "stream",
     "text": [
      "Total students: 80681900.0\n"
     ]
    }
   ],
   "source": [
    "print(\"Total students:\", df.course_students_enrolled.sum())"
   ]
  },
  {
   "cell_type": "code",
   "execution_count": 12,
   "id": "e4decd07-d0c3-4a0d-b9fa-b2a772034734",
   "metadata": {},
   "outputs": [
    {
     "data": {
      "text/html": [
       "<div>\n",
       "<style scoped>\n",
       "    .dataframe tbody tr th:only-of-type {\n",
       "        vertical-align: middle;\n",
       "    }\n",
       "\n",
       "    .dataframe tbody tr th {\n",
       "        vertical-align: top;\n",
       "    }\n",
       "\n",
       "    .dataframe thead th {\n",
       "        text-align: right;\n",
       "    }\n",
       "</style>\n",
       "<table border=\"1\" class=\"dataframe\">\n",
       "  <thead>\n",
       "    <tr style=\"text-align: right;\">\n",
       "      <th></th>\n",
       "      <th>course_title</th>\n",
       "      <th>course_organization</th>\n",
       "      <th>course_Certificate_type</th>\n",
       "      <th>course_rating</th>\n",
       "      <th>course_difficulty</th>\n",
       "      <th>course_students_enrolled</th>\n",
       "    </tr>\n",
       "  </thead>\n",
       "  <tbody>\n",
       "    <tr>\n",
       "      <th>564</th>\n",
       "      <td>Machine Learning</td>\n",
       "      <td>Stanford University</td>\n",
       "      <td>COURSE</td>\n",
       "      <td>4.9</td>\n",
       "      <td>Mixed</td>\n",
       "      <td>3200000.0</td>\n",
       "    </tr>\n",
       "  </tbody>\n",
       "</table>\n",
       "</div>"
      ],
      "text/plain": [
       "         course_title  course_organization course_Certificate_type  \\\n",
       "564  Machine Learning  Stanford University                  COURSE   \n",
       "\n",
       "     course_rating course_difficulty  course_students_enrolled  \n",
       "564            4.9             Mixed                 3200000.0  "
      ]
     },
     "execution_count": 12,
     "metadata": {},
     "output_type": "execute_result"
    }
   ],
   "source": [
    "df[df.course_students_enrolled == df.course_students_enrolled.max()]"
   ]
  },
  {
   "cell_type": "code",
   "execution_count": 11,
   "id": "4731ac6c-c477-473a-8544-dcebccc95cbf",
   "metadata": {},
   "outputs": [
    {
     "data": {
      "text/html": [
       "<div>\n",
       "<style scoped>\n",
       "    .dataframe tbody tr th:only-of-type {\n",
       "        vertical-align: middle;\n",
       "    }\n",
       "\n",
       "    .dataframe tbody tr th {\n",
       "        vertical-align: top;\n",
       "    }\n",
       "\n",
       "    .dataframe thead th {\n",
       "        text-align: right;\n",
       "    }\n",
       "</style>\n",
       "<table border=\"1\" class=\"dataframe\">\n",
       "  <thead>\n",
       "    <tr style=\"text-align: right;\">\n",
       "      <th></th>\n",
       "      <th>course_title</th>\n",
       "      <th>course_organization</th>\n",
       "      <th>course_Certificate_type</th>\n",
       "      <th>course_rating</th>\n",
       "      <th>course_difficulty</th>\n",
       "      <th>course_students_enrolled</th>\n",
       "    </tr>\n",
       "  </thead>\n",
       "  <tbody>\n",
       "    <tr>\n",
       "      <th>251</th>\n",
       "      <td>El Abogado del Futuro: Legaltech y la Transfor...</td>\n",
       "      <td>Universidad Austral</td>\n",
       "      <td>COURSE</td>\n",
       "      <td>5.0</td>\n",
       "      <td>Beginner</td>\n",
       "      <td>1500.0</td>\n",
       "    </tr>\n",
       "  </tbody>\n",
       "</table>\n",
       "</div>"
      ],
      "text/plain": [
       "                                          course_title  course_organization  \\\n",
       "251  El Abogado del Futuro: Legaltech y la Transfor...  Universidad Austral   \n",
       "\n",
       "    course_Certificate_type  course_rating course_difficulty  \\\n",
       "251                  COURSE            5.0          Beginner   \n",
       "\n",
       "     course_students_enrolled  \n",
       "251                    1500.0  "
      ]
     },
     "execution_count": 11,
     "metadata": {},
     "output_type": "execute_result"
    }
   ],
   "source": [
    "df[df.course_students_enrolled == df.course_students_enrolled.min()]"
   ]
  },
  {
   "cell_type": "markdown",
   "id": "fd502ce2-d577-43eb-925c-e24adf1dfd7d",
   "metadata": {},
   "source": [
    "### Popularity and correlation by ratings\n",
    "- Most populated are courses with rating of 4.8. Total enrollnment is 22,335,600 students.\n",
    "- Least students are in courses with rating of 5.0. Total enrollnment is 3100 students.\n",
    "- There's moderate possitive correlation of close to 0.6 between students enrollnment and course rating."
   ]
  },
  {
   "cell_type": "code",
   "execution_count": 13,
   "id": "e2e619da-fa6b-47fc-ad13-32b4cd0afe2e",
   "metadata": {},
   "outputs": [
    {
     "name": "stdout",
     "output_type": "stream",
     "text": [
      "course_rating                      4.8\n",
      "course_students_enrolled    22335600.0\n",
      "Name: 11, dtype: float64\n",
      "\n",
      "\n",
      "course_rating                  5.0\n",
      "course_students_enrolled    3100.0\n",
      "Name: 13, dtype: float64\n"
     ]
    }
   ],
   "source": [
    "enroll_rating = df.groupby(\"course_rating\", as_index=False)[\"course_students_enrolled\"].sum()\n",
    "print(enroll_rating.loc[enroll_rating[\"course_students_enrolled\"].idxmax()])\n",
    "print(\"\\n\")\n",
    "print(enroll_rating.loc[enroll_rating[\"course_students_enrolled\"].idxmin()])"
   ]
  },
  {
   "cell_type": "code",
   "execution_count": 14,
   "id": "b416f855-bc58-42cc-9347-ff78cb8b5263",
   "metadata": {
    "jupyter": {
     "source_hidden": true
    }
   },
   "outputs": [
    {
     "data": {
      "image/png": "[encoded data removed]",
      "text/plain": [
       "<Figure size 1000x600 with 1 Axes>"
      ]
     },
     "metadata": {},
     "output_type": "display_data"
    }
   ],
   "source": [
    "plt.figure(figsize=(10, 6))\n",
    "sns.set_style(\"darkgrid\")\n",
    "\n",
    "sns.regplot(data=enroll_rating, x=\"course_rating\", y=\"course_students_enrolled\")\n",
    "plt.title(\"Total students enrolled by rating\")\n",
    "plt.xlabel(\"Course rating\")\n",
    "plt.ylabel(\"Total students enrolled\")\n",
    "plt.xticks(np.arange(3.3, 5.1, 0.1))\n",
    "\n",
    "plt.gca().yaxis.set_major_formatter(FuncFormatter(lambda x, _: f\"{x/1e6:.0f}M\"))\n",
    "plt.show()"
   ]
  },
  {
   "cell_type": "code",
   "execution_count": 15,
   "id": "198e7030-c793-4c04-8f5b-a0d5eb3d26ff",
   "metadata": {},
   "outputs": [
    {
     "data": {
      "text/html": [
       "<div>\n",
       "<style scoped>\n",
       "    .dataframe tbody tr th:only-of-type {\n",
       "        vertical-align: middle;\n",
       "    }\n",
       "\n",
       "    .dataframe tbody tr th {\n",
       "        vertical-align: top;\n",
       "    }\n",
       "\n",
       "    .dataframe thead th {\n",
       "        text-align: right;\n",
       "    }\n",
       "</style>\n",
       "<table border=\"1\" class=\"dataframe\">\n",
       "  <thead>\n",
       "    <tr style=\"text-align: right;\">\n",
       "      <th></th>\n",
       "      <th>course_rating</th>\n",
       "      <th>course_students_enrolled</th>\n",
       "    </tr>\n",
       "  </thead>\n",
       "  <tbody>\n",
       "    <tr>\n",
       "      <th>course_rating</th>\n",
       "      <td>1.00000</td>\n",
       "      <td>0.59871</td>\n",
       "    </tr>\n",
       "    <tr>\n",
       "      <th>course_students_enrolled</th>\n",
       "      <td>0.59871</td>\n",
       "      <td>1.00000</td>\n",
       "    </tr>\n",
       "  </tbody>\n",
       "</table>\n",
       "</div>"
      ],
      "text/plain": [
       "                          course_rating  course_students_enrolled\n",
       "course_rating                   1.00000                   0.59871\n",
       "course_students_enrolled        0.59871                   1.00000"
      ]
     },
     "execution_count": 15,
     "metadata": {},
     "output_type": "execute_result"
    }
   ],
   "source": [
    "enroll_rating.corr()"
   ]
  },
  {
   "cell_type": "markdown",
   "id": "f569deb7-d9e1-4992-b976-acfcf55d3b7c",
   "metadata": {},
   "source": [
    "***\n",
    "## Course by difficulty and certificate types\n",
    "- Most occuring difficulty in this data set is **beginner** with 487 occurences.\n",
    "- **Advanced** difficulty course is most scarce in this data set with only 19 occurences.\n",
    "- **Intermediate** and **Mixed** difficulties are pretty close to each other with 198 and 187 occurences respectively."
   ]
  },
  {
   "cell_type": "code",
   "execution_count": 67,
   "id": "b04ff630-6cab-4bd2-bc09-11be22bb9da4",
   "metadata": {},
   "outputs": [
    {
     "data": {
      "image/png": "[encoded data removed]",
      "text/plain": [
       "<Figure size 1000x600 with 1 Axes>"
      ]
     },
     "metadata": {},
     "output_type": "display_data"
    }
   ],
   "source": [
    "plt.figure(figsize=(10, 6))\n",
    "dfc = sns.countplot(data=df, x=\"course_difficulty\", hue=\"course_difficulty\", palette=\"dark:orange\")\n",
    "plt.title(\"Total courses by difficulty\")\n",
    "plt.xlabel(\"Course difficulty\")\n",
    "plt.ylabel(\"Total count\")\n",
    "\n",
    "for container in dfc.containers:\n",
    "    dfc.bar_label(container, fmt=\"%d\", label_type=\"edge\")\n",
    "\n",
    "plt.show()"
   ]
  },
  {
   "cell_type": "markdown",
   "id": "4dd40b17-cc29-4feb-b6a2-3408343de9d8",
   "metadata": {},
   "source": [
    "### Course difficulty levels by certification types\n",
    "- **Course** certificate appears total of 582 times.\n",
    "  - 9 times in **Advanced** difficulty\n",
    "  - 282 times in **Beginner** difficulty\n",
    "  - 104 in **Intermediate** difficulty\n",
    "  - 187 in **Mixed** difficulty\n",
    "- **Specialization** certificate is offered in 297 programs.\n",
    "  - 10 in **Advanced**\n",
    "  - 196 in **Beginner**\n",
    "  - 91 in **Intermediate**\n",
    "- **Professional Certificate** is only offered by 12 programs.\n",
    "  - 9 in **Beginner**\n",
    "  - 3 in **Intermediate**"
   ]
  },
  {
   "cell_type": "code",
   "execution_count": 68,
   "id": "5f4c06d7-b048-449d-87b7-3fdf8c170f4e",
   "metadata": {},
   "outputs": [
    {
     "data": {
      "text/plain": [
       "course_Certificate_type\n",
       "COURSE                      582\n",
       "PROFESSIONAL CERTIFICATE     12\n",
       "SPECIALIZATION              297\n",
       "Name: count, dtype: int64"
      ]
     },
     "execution_count": 68,
     "metadata": {},
     "output_type": "execute_result"
    }
   ],
   "source": [
    "grouped = df.groupby([\"course_difficulty\", \"course_Certificate_type\"]).size().reset_index(name=\"count\")\n",
    "grouped.groupby(\"course_Certificate_type\")[\"count\"].sum()"
   ]
  },
  {
   "cell_type": "code",
   "execution_count": 69,
   "id": "52c18777-7dd5-41f0-8f28-1c3cdcc92c8d",
   "metadata": {
    "jupyter": {
     "source_hidden": true
    }
   },
   "outputs": [
    {
     "data": {
      "image/png": "[encoded data removed]",
      "text/plain": [
       "<Figure size 1000x600 with 1 Axes>"
      ]
     },
     "metadata": {},
     "output_type": "display_data"
    }
   ],
   "source": [
    "grouped = df.groupby([\"course_difficulty\", \"course_Certificate_type\"]).size().reset_index(name=\"count\")\n",
    "\n",
    "plt.figure(figsize=(10, 6))\n",
    "dfc_cert = sns.barplot(data=grouped, x=\"course_difficulty\", y=\"count\", \n",
    "                  hue=\"course_Certificate_type\")\n",
    "\n",
    "for container in dfc_cert.containers:\n",
    "    dfc_cert.bar_label(container, fmt=\"%d\", label_type=\"edge\")\n",
    "\n",
    "plt.xlabel(\"Course Difficulty\")\n",
    "plt.ylabel(\"Number of Courses\")\n",
    "plt.title(\"Total courses by Course Difficulty and Certificate Type\")\n",
    "plt.legend(title=\"Certification type\")\n",
    "\n",
    "plt.show()"
   ]
  },
  {
   "cell_type": "markdown",
   "id": "f752d5f4-cdf7-4bec-b929-57961f172e0b",
   "metadata": {},
   "source": [
    "### Courses by Ratings and Certification"
   ]
  },
  {
   "cell_type": "code",
   "execution_count": 18,
   "id": "79a547df-ee45-4c4f-8ad6-24f762ebefda",
   "metadata": {
    "jupyter": {
     "source_hidden": true
    }
   },
   "outputs": [
    {
     "data": {
      "image/png": "[encoded data removed]",
      "text/plain": [
       "<Figure size 1000x600 with 1 Axes>"
      ]
     },
     "metadata": {},
     "output_type": "display_data"
    }
   ],
   "source": [
    "grouped = df.groupby([\"course_rating\", \"course_Certificate_type\"]).size().reset_index(name=\"count\")\n",
    "\n",
    "plt.figure(figsize=(10, 6))\n",
    "cert = sns.barplot(data=grouped, x=\"course_rating\", y=\"count\", \n",
    "                  hue=\"course_Certificate_type\")\n",
    "\n",
    "for container in cert.containers:\n",
    "    cert.bar_label(container, fmt=\"%d\", label_type=\"edge\")\n",
    "\n",
    "plt.xlabel(\"Course Rating\")\n",
    "plt.ylabel(\"Number of Courses\")\n",
    "plt.title(\"Total courses by Course Ratings and Certificate Type\")\n",
    "plt.legend(title=\"Type of course\")\n",
    "\n",
    "plt.show()"
   ]
  },
  {
   "cell_type": "markdown",
   "id": "cca73e4e-0751-47eb-9473-a820e08fec72",
   "metadata": {},
   "source": [
    "***\n",
    "## Course by organization"
   ]
  },
  {
   "cell_type": "code",
   "execution_count": 19,
   "id": "7d21669f-2b68-4aa5-a587-e56f599dc8cc",
   "metadata": {},
   "outputs": [
    {
     "data": {
      "text/plain": [
       "course_organization\n",
       "University of Pennsylvania    59\n",
       "University of Michigan        41\n",
       "Google Cloud                  34\n",
       "Duke University               28\n",
       "Johns Hopkins University      28\n",
       "Name: count, dtype: int64"
      ]
     },
     "execution_count": 19,
     "metadata": {},
     "output_type": "execute_result"
    }
   ],
   "source": [
    "top5 = df.course_organization.value_counts().head()\n",
    "top5"
   ]
  },
  {
   "cell_type": "markdown",
   "id": "8fb84a66-d61c-4819-b7a8-70f94cf94dc1",
   "metadata": {},
   "source": [
    "Top 5 by number of offered courses are:\n",
    "1. University of Pennsylvania - 59\n",
    "2. University of Michigan - 41\n",
    "3. Google Cloud - 34\n",
    "4. Duke University - 28\n",
    "5. Johns Hopkins University - 28"
   ]
  },
  {
   "cell_type": "code",
   "execution_count": 20,
   "id": "9e770a0b-ff74-4918-9521-2406877157bb",
   "metadata": {},
   "outputs": [
    {
     "data": {
      "text/plain": [
       "course_organization                       course_rating\n",
       "University of Pennsylvania                4.8              25\n",
       "University of Michigan                    4.8              21\n",
       "Google Cloud                              4.7              13\n",
       "Berklee College of Music                  4.8              13\n",
       "University of California, Irvine          4.7              12\n",
       "                                                           ..\n",
       "École Polytechnique Fédérale de Lausanne  4.6               1\n",
       "École Polytechnique                       4.8               1\n",
       "deeplearning.ai                           4.5               1\n",
       "Amazon Web Services                       4.3               1\n",
       "(ISC)²                                    4.6               1\n",
       "Name: count, Length: 402, dtype: int64"
      ]
     },
     "execution_count": 20,
     "metadata": {},
     "output_type": "execute_result"
    }
   ],
   "source": [
    "reps = df[[\"course_organization\", \"course_rating\"]].value_counts()\n",
    "reps"
   ]
  },
  {
   "cell_type": "code",
   "execution_count": 21,
   "id": "13bc78fd-0c28-4851-b8a9-2bbca10ac14b",
   "metadata": {},
   "outputs": [
    {
     "data": {
      "text/html": [
       "<div>\n",
       "<style scoped>\n",
       "    .dataframe tbody tr th:only-of-type {\n",
       "        vertical-align: middle;\n",
       "    }\n",
       "\n",
       "    .dataframe tbody tr th {\n",
       "        vertical-align: top;\n",
       "    }\n",
       "\n",
       "    .dataframe thead th {\n",
       "        text-align: right;\n",
       "    }\n",
       "</style>\n",
       "<table border=\"1\" class=\"dataframe\">\n",
       "  <thead>\n",
       "    <tr style=\"text-align: right;\">\n",
       "      <th></th>\n",
       "      <th>course_title</th>\n",
       "      <th>course_organization</th>\n",
       "      <th>course_Certificate_type</th>\n",
       "      <th>course_rating</th>\n",
       "      <th>course_difficulty</th>\n",
       "      <th>course_students_enrolled</th>\n",
       "    </tr>\n",
       "  </thead>\n",
       "  <tbody>\n",
       "    <tr>\n",
       "      <th>340</th>\n",
       "      <td>Functional Programming Principles in Scala</td>\n",
       "      <td>École Polytechnique Fédérale de Lausanne</td>\n",
       "      <td>COURSE</td>\n",
       "      <td>4.8</td>\n",
       "      <td>Intermediate</td>\n",
       "      <td>170000.0</td>\n",
       "    </tr>\n",
       "    <tr>\n",
       "      <th>341</th>\n",
       "      <td>Functional Programming in Scala</td>\n",
       "      <td>École Polytechnique Fédérale de Lausanne</td>\n",
       "      <td>SPECIALIZATION</td>\n",
       "      <td>4.7</td>\n",
       "      <td>Intermediate</td>\n",
       "      <td>220000.0</td>\n",
       "    </tr>\n",
       "    <tr>\n",
       "      <th>616</th>\n",
       "      <td>Municipal Solid Waste Management in Developing...</td>\n",
       "      <td>École Polytechnique Fédérale de Lausanne</td>\n",
       "      <td>COURSE</td>\n",
       "      <td>4.8</td>\n",
       "      <td>Intermediate</td>\n",
       "      <td>59000.0</td>\n",
       "    </tr>\n",
       "    <tr>\n",
       "      <th>730</th>\n",
       "      <td>Smart Cities – Management of Smart Urban Infra...</td>\n",
       "      <td>École Polytechnique Fédérale de Lausanne</td>\n",
       "      <td>COURSE</td>\n",
       "      <td>4.6</td>\n",
       "      <td>Beginner</td>\n",
       "      <td>22000.0</td>\n",
       "    </tr>\n",
       "  </tbody>\n",
       "</table>\n",
       "</div>"
      ],
      "text/plain": [
       "                                          course_title  \\\n",
       "340         Functional Programming Principles in Scala   \n",
       "341                    Functional Programming in Scala   \n",
       "616  Municipal Solid Waste Management in Developing...   \n",
       "730  Smart Cities – Management of Smart Urban Infra...   \n",
       "\n",
       "                          course_organization course_Certificate_type  \\\n",
       "340  École Polytechnique Fédérale de Lausanne                  COURSE   \n",
       "341  École Polytechnique Fédérale de Lausanne          SPECIALIZATION   \n",
       "616  École Polytechnique Fédérale de Lausanne                  COURSE   \n",
       "730  École Polytechnique Fédérale de Lausanne                  COURSE   \n",
       "\n",
       "     course_rating course_difficulty  course_students_enrolled  \n",
       "340            4.8      Intermediate                  170000.0  \n",
       "341            4.7      Intermediate                  220000.0  \n",
       "616            4.8      Intermediate                   59000.0  \n",
       "730            4.6          Beginner                   22000.0  "
      ]
     },
     "execution_count": 21,
     "metadata": {},
     "output_type": "execute_result"
    }
   ],
   "source": [
    "df[df.course_organization == \"École Polytechnique Fédérale de Lausanne\"]"
   ]
  },
  {
   "cell_type": "markdown",
   "id": "a0be61bb-8304-4b44-ad8f-df581549ee25",
   "metadata": {},
   "source": [
    "***\n",
    "\n",
    "## TLDR\n",
    "\n",
    "***\n",
    "With more data features there would be more accurate analysis"
   ]
  }
 ],
 "metadata": {
  "kernelspec": {
   "display_name": "Python 3 (ipykernel)",
   "language": "python",
   "name": "python3"
  },
  "language_info": {
   "codemirror_mode": {
    "name": "ipython",
    "version": 3
   },
   "file_extension": ".py",
   "mimetype": "text/x-python",
   "name": "python",
   "nbconvert_exporter": "python",
   "pygments_lexer": "ipython3",
   "version": "3.13.1"
  }
 },
 "nbformat": 4,
 "nbformat_minor": 5
}
