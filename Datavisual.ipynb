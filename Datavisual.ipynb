{
 "cells": [
  {
   "cell_type": "code",
   "execution_count": 56,
   "id": "d09314a1-40ad-4ab0-b791-a4801ce745da",
   "metadata": {},
   "outputs": [],
   "source": [
    "import numpy as np\n",
    "import pandas as pd\n",
    "import matplotlib.pyplot as plt\n",
    "import seaborn as sns\n",
    "df = pd.read_csv(\"coursea_data.csv\", index_col=0)\n",
    "def convert_enrolled(val):\n",
    "    if isinstance(val, str) and \"k\" in val.lower():\n",
    "        return float(val.lower().strip().replace(\"k\", \"\")) * 1000\n",
    "    elif isinstance(val, str) and \"m\" in val.lower():\n",
    "        return float(val.lower().strip().replace(\"m\", \"\")) * 1000000\n",
    "    else:\n",
    "        return float(val)\n",
    "\n",
    "df.course_students_enrolled = df.course_students_enrolled.apply(convert_enrolled)\n",
    "\n",
    "df.index = df.index.sort_values()"
   ]
  },
  {
   "cell_type": "markdown",
   "id": "665e630a-5db8-4e65-8e4d-5f12a377e5fc",
   "metadata": {},
   "source": [
    "# Data visualization\n",
    "***\n",
    "## Overview\n",
    "This data set contains 891 rows with 6 features.  \n",
    "With 4 categorical features:\n",
    "1. Course title\n",
    "2. Course organization\n",
    "3. Course certification type\n",
    "4. Course difficulty\n",
    "    \n",
    "And 2 numeric features:\n",
    "1. Course rating\n",
    "2. Course students enrolled"
   ]
  },
  {
   "cell_type": "code",
   "execution_count": 57,
   "id": "315e87b9-02d1-405e-b862-a2dc33c3ba13",
   "metadata": {
    "jupyter": {
     "source_hidden": true
    }
   },
   "outputs": [
    {
     "name": "stdout",
     "output_type": "stream",
     "text": [
      "Total data rows: 891\n"
     ]
    },
    {
     "data": {
      "text/html": [
       "<div>\n",
       "<style scoped>\n",
       "    .dataframe tbody tr th:only-of-type {\n",
       "        vertical-align: middle;\n",
       "    }\n",
       "\n",
       "    .dataframe tbody tr th {\n",
       "        vertical-align: top;\n",
       "    }\n",
       "\n",
       "    .dataframe thead th {\n",
       "        text-align: right;\n",
       "    }\n",
       "</style>\n",
       "<table border=\"1\" class=\"dataframe\">\n",
       "  <thead>\n",
       "    <tr style=\"text-align: right;\">\n",
       "      <th></th>\n",
       "      <th>course_title</th>\n",
       "      <th>course_organization</th>\n",
       "      <th>course_Certificate_type</th>\n",
       "      <th>course_rating</th>\n",
       "      <th>course_difficulty</th>\n",
       "      <th>course_students_enrolled</th>\n",
       "    </tr>\n",
       "  </thead>\n",
       "  <tbody>\n",
       "    <tr>\n",
       "      <th>0</th>\n",
       "      <td>(ISC)² Systems Security Certified Practitioner...</td>\n",
       "      <td>(ISC)²</td>\n",
       "      <td>SPECIALIZATION</td>\n",
       "      <td>4.7</td>\n",
       "      <td>Beginner</td>\n",
       "      <td>5300.0</td>\n",
       "    </tr>\n",
       "    <tr>\n",
       "      <th>1</th>\n",
       "      <td>A Crash Course in Causality:  Inferring Causal...</td>\n",
       "      <td>University of Pennsylvania</td>\n",
       "      <td>COURSE</td>\n",
       "      <td>4.7</td>\n",
       "      <td>Intermediate</td>\n",
       "      <td>17000.0</td>\n",
       "    </tr>\n",
       "    <tr>\n",
       "      <th>2</th>\n",
       "      <td>A Crash Course in Data Science</td>\n",
       "      <td>Johns Hopkins University</td>\n",
       "      <td>COURSE</td>\n",
       "      <td>4.5</td>\n",
       "      <td>Mixed</td>\n",
       "      <td>130000.0</td>\n",
       "    </tr>\n",
       "    <tr>\n",
       "      <th>3</th>\n",
       "      <td>A Law Student's Toolkit</td>\n",
       "      <td>Yale University</td>\n",
       "      <td>COURSE</td>\n",
       "      <td>4.7</td>\n",
       "      <td>Mixed</td>\n",
       "      <td>91000.0</td>\n",
       "    </tr>\n",
       "    <tr>\n",
       "      <th>4</th>\n",
       "      <td>A Life of Happiness and Fulfillment</td>\n",
       "      <td>Indian School of Business</td>\n",
       "      <td>COURSE</td>\n",
       "      <td>4.8</td>\n",
       "      <td>Mixed</td>\n",
       "      <td>320000.0</td>\n",
       "    </tr>\n",
       "  </tbody>\n",
       "</table>\n",
       "</div>"
      ],
      "text/plain": [
       "                                        course_title  \\\n",
       "0  (ISC)² Systems Security Certified Practitioner...   \n",
       "1  A Crash Course in Causality:  Inferring Causal...   \n",
       "2                     A Crash Course in Data Science   \n",
       "3                            A Law Student's Toolkit   \n",
       "4                A Life of Happiness and Fulfillment   \n",
       "\n",
       "          course_organization course_Certificate_type  course_rating  \\\n",
       "0                      (ISC)²          SPECIALIZATION            4.7   \n",
       "1  University of Pennsylvania                  COURSE            4.7   \n",
       "2    Johns Hopkins University                  COURSE            4.5   \n",
       "3             Yale University                  COURSE            4.7   \n",
       "4   Indian School of Business                  COURSE            4.8   \n",
       "\n",
       "  course_difficulty  course_students_enrolled  \n",
       "0          Beginner                    5300.0  \n",
       "1      Intermediate                   17000.0  \n",
       "2             Mixed                  130000.0  \n",
       "3             Mixed                   91000.0  \n",
       "4             Mixed                  320000.0  "
      ]
     },
     "execution_count": 57,
     "metadata": {},
     "output_type": "execute_result"
    }
   ],
   "source": [
    "print(\"Total data rows:\", df.index.value_counts().sum())\n",
    "df.head()"
   ]
  },
  {
   "cell_type": "markdown",
   "id": "87aaea83-a963-4f19-abfa-874e3fb40dbf",
   "metadata": {},
   "source": [
    "### Duplicates and null values\n",
    "- There's one organization providing one course with same title but certification and course difficulty are diferent. Also there's students enrolled diference.\n",
    "- This data set has no empty values."
   ]
  },
  {
   "cell_type": "code",
   "execution_count": 58,
   "id": "9089a044-9a12-4f2f-a334-50fd45a5527d",
   "metadata": {},
   "outputs": [
    {
     "data": {
      "text/html": [
       "<div>\n",
       "<style scoped>\n",
       "    .dataframe tbody tr th:only-of-type {\n",
       "        vertical-align: middle;\n",
       "    }\n",
       "\n",
       "    .dataframe tbody tr th {\n",
       "        vertical-align: top;\n",
       "    }\n",
       "\n",
       "    .dataframe thead th {\n",
       "        text-align: right;\n",
       "    }\n",
       "</style>\n",
       "<table border=\"1\" class=\"dataframe\">\n",
       "  <thead>\n",
       "    <tr style=\"text-align: right;\">\n",
       "      <th></th>\n",
       "      <th>course_title</th>\n",
       "      <th>course_organization</th>\n",
       "      <th>course_Certificate_type</th>\n",
       "      <th>course_rating</th>\n",
       "      <th>course_difficulty</th>\n",
       "      <th>course_students_enrolled</th>\n",
       "    </tr>\n",
       "  </thead>\n",
       "  <tbody>\n",
       "    <tr>\n",
       "      <th>224</th>\n",
       "      <td>Developing Your Musicianship</td>\n",
       "      <td>Berklee College of Music</td>\n",
       "      <td>COURSE</td>\n",
       "      <td>4.8</td>\n",
       "      <td>Mixed</td>\n",
       "      <td>41000.0</td>\n",
       "    </tr>\n",
       "    <tr>\n",
       "      <th>225</th>\n",
       "      <td>Developing Your Musicianship</td>\n",
       "      <td>Berklee College of Music</td>\n",
       "      <td>SPECIALIZATION</td>\n",
       "      <td>4.8</td>\n",
       "      <td>Beginner</td>\n",
       "      <td>54000.0</td>\n",
       "    </tr>\n",
       "  </tbody>\n",
       "</table>\n",
       "</div>"
      ],
      "text/plain": [
       "                     course_title       course_organization  \\\n",
       "224  Developing Your Musicianship  Berklee College of Music   \n",
       "225  Developing Your Musicianship  Berklee College of Music   \n",
       "\n",
       "    course_Certificate_type  course_rating course_difficulty  \\\n",
       "224                  COURSE            4.8             Mixed   \n",
       "225          SPECIALIZATION            4.8          Beginner   \n",
       "\n",
       "     course_students_enrolled  \n",
       "224                   41000.0  \n",
       "225                   54000.0  "
      ]
     },
     "execution_count": 58,
     "metadata": {},
     "output_type": "execute_result"
    }
   ],
   "source": [
    "df[df[[\"course_title\", \"course_organization\"]].duplicated(keep=False)]"
   ]
  },
  {
   "cell_type": "markdown",
   "id": "c9799103-7441-412a-a046-0f471a09f768",
   "metadata": {},
   "source": [
    "### Null values"
   ]
  },
  {
   "cell_type": "code",
   "execution_count": 59,
   "id": "8a3a3e35-bc6d-4006-b610-560e0388ca85",
   "metadata": {},
   "outputs": [
    {
     "data": {
      "text/plain": [
       "course_title                0\n",
       "course_organization         0\n",
       "course_Certificate_type     0\n",
       "course_rating               0\n",
       "course_difficulty           0\n",
       "course_students_enrolled    0\n",
       "dtype: int64"
      ]
     },
     "execution_count": 59,
     "metadata": {},
     "output_type": "execute_result"
    }
   ],
   "source": [
    "df.isnull().sum()"
   ]
  },
  {
   "cell_type": "markdown",
   "id": "3095430f-9b87-4410-8eda-6fbac757aee9",
   "metadata": {},
   "source": [
    "***\n",
    "## Rating and students enrolled outliers"
   ]
  },
  {
   "cell_type": "markdown",
   "id": "7c230a27-f281-4589-a59f-f75bb0f65962",
   "metadata": {},
   "source": [
    "### A total of 154 organizations, offering 888 diferent courses\n",
    "- 17 courses falls to low outliers by rating, mean of 4.05 out of 5 with worst rated 3.3.\n",
    "- 78 courses with high outliers by students enrolled, mean of close to 460,000 with most popular at 3,200,000 students enrolled.\n",
    "- None of these outliers intertwines"
   ]
  },
  {
   "cell_type": "code",
   "execution_count": 60,
   "id": "780841f2-17ad-49b8-b5a6-f04664780208",
   "metadata": {},
   "outputs": [
    {
     "name": "stdout",
     "output_type": "stream",
     "text": [
      "Total unique courses: 888\n",
      "Total unique oragnizations: 154\n"
     ]
    }
   ],
   "source": [
    "print(\"Total unique courses:\", df.course_title.str.strip().nunique())\n",
    "print(\"Total unique oragnizations:\", df.course_organization.str.strip().nunique())"
   ]
  },
  {
   "cell_type": "code",
   "execution_count": 73,
   "id": "5017c4cf-cb12-48d6-9d89-69f582512bdb",
   "metadata": {},
   "outputs": [
    {
     "data": {
      "text/plain": [
       "course_title                How To Create a Website in a Weekend! (Project...\n",
       "course_organization                          The State University of New York\n",
       "course_Certificate_type                                                COURSE\n",
       "course_rating                                                             3.3\n",
       "course_difficulty                                                       Mixed\n",
       "course_students_enrolled                                             140000.0\n",
       "Name: 413, dtype: object"
      ]
     },
     "execution_count": 73,
     "metadata": {},
     "output_type": "execute_result"
    }
   ],
   "source": [
    "df.course_rating.idxmin()\n",
    "df.iloc[413]"
   ]
  },
  {
   "cell_type": "code",
   "execution_count": 6,
   "id": "8f2c9a3c-5322-40ab-808a-e7ccd5a30c32",
   "metadata": {},
   "outputs": [
    {
     "name": "stdout",
     "output_type": "stream",
     "text": [
      "Total low outliers - course rating only: 17\n",
      "Min score: 3.3\n",
      "course_rating               4.05\n",
      "course_students_enrolled     NaN\n",
      "dtype: float64\n",
      "\n",
      "\n",
      "Total high outliers - course students enrolled only: 78\n",
      "Max students enrolled: 3200000.0\n",
      "course_rating                    NaN\n",
      "course_students_enrolled    459615.0\n",
      "dtype: float64\n"
     ]
    }
   ],
   "source": [
    "num_csv = df.select_dtypes(include=[float, int])\n",
    "descr = num_csv.describe()\n",
    "q1 = descr.loc[\"25%\"]\n",
    "q3 = descr.loc[\"75%\"]\n",
    "iqr = q3-q1\n",
    "lower = q1-1.5*iqr\n",
    "upper = q3+1.5*iqr\n",
    "outl_low = num_csv[(num_csv < lower)]\n",
    "outl_high = num_csv[(num_csv > upper)]\n",
    "outl_low.notna().sum()\n",
    "outl_high.notna().sum()\n",
    "\n",
    "low = outl_low[outl_low.notna()]\n",
    "print(\"Total low outliers - course rating only:\", low.course_rating.dropna(how = \"all\").value_counts().sum())\n",
    "print(\"Min score:\", low.course_rating.min())\n",
    "print(low.mean().round(2))\n",
    "print(\"\\n\")\n",
    "high = outl_high[outl_high.notna()]\n",
    "print(\"Total high outliers - course students enrolled only:\", high.course_students_enrolled.dropna(how = \"all\").value_counts().sum())\n",
    "print(\"Max students enrolled:\", high.course_students_enrolled.max())\n",
    "print(high.mean().round())"
   ]
  },
  {
   "cell_type": "code",
   "execution_count": 80,
   "id": "b10a6950-918c-4bbb-af21-2abe33727bc7",
   "metadata": {},
   "outputs": [
    {
     "data": {
      "image/png": "[encoded data removed]",
      "text/plain": [
       "<Figure size 640x480 with 1 Axes>"
      ]
     },
     "metadata": {},
     "output_type": "display_data"
    }
   ],
   "source": [
    "\n",
    "sns.barplot(x=df.course_rating, y=df.course_students_enrolled)\n",
    "\n",
    "# Adjust layout\n",
    "#plt.tight_layout()\n",
    "plt.title(\"Course rating to students enrolled comparison\")\n",
    "plt.show()"
   ]
  },
  {
   "cell_type": "markdown",
   "id": "d45d5092-7d99-49fe-81b0-0852c522a663",
   "metadata": {},
   "source": [
    "***\n",
    "## Popularity breakdown"
   ]
  },
  {
   "cell_type": "markdown",
   "id": "a0be61bb-8304-4b44-ad8f-df581549ee25",
   "metadata": {},
   "source": [
    "***\n",
    "\n",
    "## TLDR\n",
    "\n",
    "***\n",
    "With more data features there would be more accurate analysis"
   ]
  }
 ],
 "metadata": {
  "kernelspec": {
   "display_name": "Python 3 (ipykernel)",
   "language": "python",
   "name": "python3"
  },
  "language_info": {
   "codemirror_mode": {
    "name": "ipython",
    "version": 3
   },
   "file_extension": ".py",
   "mimetype": "text/x-python",
   "name": "python",
   "nbconvert_exporter": "python",
   "pygments_lexer": "ipython3",
   "version": "3.13.1"
  }
 },
 "nbformat": 4,
 "nbformat_minor": 5
}
